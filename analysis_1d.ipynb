{
 "cells": [
  {
   "cell_type": "code",
   "execution_count": 1,
   "id": "2a184e64",
   "metadata": {},
   "outputs": [],
   "source": [
    "import numpy as np\n",
    "import torch\n",
    "import os\n",
    "import sys"
   ]
  },
  {
   "cell_type": "code",
   "execution_count": 2,
   "id": "4ff8d615",
   "metadata": {},
   "outputs": [],
   "source": [
    "def normalized_rmse(predictions, true_values):\n",
    "  \"\"\"\n",
    "  Calculates the Normalized Root Mean Squared Error (nRMSE).\n",
    "\n",
    "  Args:\n",
    "    predictions: A array containing the predicted values.\n",
    "    true_values: A array containing the true values.\n",
    "\n",
    "  Returns:\n",
    "    The normalized root mean squared error.\n",
    "  \"\"\"\n",
    "  #print(predictions.shape, true_values.shape)\n",
    "\n",
    "#   rmse = torch.sqrt(torch.sum((predictions - true_values) ** 2  ) )\n",
    "  \n",
    "#   nrmse = rmse /   torch.sqrt(torch.sum((true_values) ** 2) )    #torch.std(true_values)\n",
    "\n",
    "  rmse = torch.sqrt(torch.mean((predictions - true_values) ** 2, dim = 1 ) )\n",
    "  nrmse = rmse / torch.sqrt(torch.mean((true_values) ** 2, dim = 1) )    \n",
    "  \n",
    "  return torch.mean(nrmse)"
   ]
  },
  {
   "cell_type": "code",
   "execution_count": 3,
   "id": "e2ea5423",
   "metadata": {},
   "outputs": [],
   "source": [
    "def analyze_result(file_loc):\n",
    "    res = torch.load(file_loc, map_location=\"cpu\")\n",
    "    #print(res.keys())\n",
    "    try:\n",
    "        prediction_B1_cons = res[\"train_cons_ro_250\"][1]\n",
    "        actual_B1_cons = res[\"train_cons_ro_250\"][2]\n",
    "        #print( res[\"test_cons_ro_250\"][3][0])\n",
    "        nrmse_cons = normalized_rmse(prediction_B1_cons, actual_B1_cons)\n",
    "        train_cons = [nrmse_cons, prediction_B1_cons, actual_B1_cons]\n",
    "    except:\n",
    "        train_cons = [0,0,0]\n",
    "    try:\n",
    "        prediction_B1_cons = res[\"test_ro\"][1]\n",
    "        actual_B1_cons = res[\"test_ro\"][2]\n",
    "        #print( res[\"test_cons_ro_250\"][3][0])\n",
    "        nrmse_cons = normalized_rmse(prediction_B1_cons, actual_B1_cons)\n",
    "        cons = [nrmse_cons, prediction_B1_cons, actual_B1_cons]\n",
    "    except:\n",
    "        cons = [0,0,0]\n",
    "    try:\n",
    "        prediction_B1_var = res[\"test_var_ro_250\"][1]\n",
    "        actual_B1_var = res[\"test_var_ro_250\"][2]\n",
    "        #print( res[\"test_var_ro_250\"][3][0])\n",
    "        nrmse_var = normalized_rmse(prediction_B1_var, actual_B1_var)\n",
    "        var = [nrmse_var,prediction_B1_var, actual_B1_var]\n",
    "    except:\n",
    "        var = [0,0,0]\n",
    "    \n",
    "    return cons, var, train_cons"
   ]
  },
  {
   "cell_type": "code",
   "execution_count": 4,
   "id": "c4af9d3b",
   "metadata": {},
   "outputs": [],
   "source": [
    "def analyze_result_10(file_loc):\n",
    "    res = torch.load(file_loc, map_location=\"cpu\")\n",
    "    #print(res.keys())\n",
    "    try:\n",
    "        prediction_B1_cons = res[\"train_cons_ro_250\"][1]\n",
    "        actual_B1_cons = res[\"train_cons_ro_250\"][2]\n",
    "        #print( res[\"test_cons_ro_250\"][3][0])\n",
    "        nrmse_cons = normalized_rmse(prediction_B1_cons, actual_B1_cons)\n",
    "        train_cons = [nrmse_cons, prediction_B1_cons, actual_B1_cons]\n",
    "    except:\n",
    "        train_cons = [0,0,0]\n",
    "    try:\n",
    "        prediction_B1_cons = res[\"test_ro\"][1][...,-10:]\n",
    "        actual_B1_cons = res[\"test_ro\"][2][...,-10:]\n",
    "        #print( res[\"test_cons_ro_250\"][3][0])\n",
    "        nrmse_cons = normalized_rmse(prediction_B1_cons, actual_B1_cons)\n",
    "        cons = [nrmse_cons, prediction_B1_cons, actual_B1_cons]\n",
    "    except:\n",
    "        cons = [0,0,0]\n",
    "    try:\n",
    "        prediction_B1_var = res[\"test_var_ro_250\"][1]\n",
    "        actual_B1_var = res[\"test_var_ro_250\"][2]\n",
    "        #print( res[\"test_var_ro_250\"][3][0])\n",
    "        nrmse_var = normalized_rmse(prediction_B1_var, actual_B1_var)\n",
    "        var = [nrmse_var,prediction_B1_var, actual_B1_var]\n",
    "    except:\n",
    "        var = [0,0,0]\n",
    "    \n",
    "    return cons, var, train_cons"
   ]
  },
  {
   "cell_type": "code",
   "execution_count": 7,
   "id": "a19b44b5",
   "metadata": {},
   "outputs": [
    {
     "name": "stdout",
     "output_type": "stream",
     "text": [
      "/mnt/scratch/scoc/constant_autoregression/result/E1/FNO/TF_noise/run_1/run_1_best_epoch_proto_1.pt\n",
      "/mnt/scratch/scoc/constant_autoregression/result/E1/FNO/TF_noise/run_2/run_2_best_epoch_proto_1.pt\n",
      "/mnt/scratch/scoc/constant_autoregression/result/E1/FNO/TF_noise/run_3/run_3_best_epoch_proto_1.pt\n",
      "/mnt/scratch/scoc/constant_autoregression/result/E1/FNO/TF_noise/run_4/run_4_best_epoch_proto_1.pt\n",
      "/mnt/scratch/scoc/constant_autoregression/result/E1/FNO/TF_noise/run_5/run_5_best_epoch_proto_1.pt\n",
      "tensor([0.2727, 0.2701, 0.2773, 0.2877, 0.2869]) tensor([0.6180, 0.6102, 0.6239, 0.6462, 0.6460])\n",
      "tensor(0.2789) tensor(0.0081) tensor(0.6289)\n"
     ]
    }
   ],
   "source": [
    "experiments = [\"run_1\", \"run_2\", \"run_3\", \"run_4\", \"run_5\"]\n",
    "\n",
    "strategy = [\"TF_noise\"]\n",
    "\n",
    "file_loc_base = \"/mnt/scratch/scoc/constant_autoregression/result/E1/FNO\"\n",
    "errors = torch.zeros(5)\n",
    "errors_10 = torch.zeros(5)\n",
    "i = 0\n",
    "for experiment in experiments:\n",
    "    file_loc = os.path.join( file_loc_base, strategy[0], experiment, experiment+\"_best_epoch_proto_1.pt\")\n",
    "    print(file_loc) \n",
    "    res = analyze_result(file_loc)\n",
    "    res_10 = analyze_result_10(file_loc) \n",
    "    errors[i] = res[0][0]\n",
    "    errors_10[i] = res_10[0][0]\n",
    "    i = i+1\n",
    "print(errors, errors_10)\n",
    "print(errors.mean(), errors.std(), errors_10.mean())"
   ]
  },
  {
   "cell_type": "code",
   "execution_count": 38,
   "id": "6007689c",
   "metadata": {},
   "outputs": [
    {
     "data": {
      "text/plain": [
       "-6.1135371179039435"
      ]
     },
     "execution_count": 38,
     "metadata": {},
     "output_type": "execute_result"
    }
   ],
   "source": [
    "a = 0.2748\n",
    "b = 0.2916\n",
    "((a-b)/a)*100"
   ]
  }
 ],
 "metadata": {
  "kernelspec": {
   "display_name": "env_phd",
   "language": "python",
   "name": "python3"
  },
  "language_info": {
   "codemirror_mode": {
    "name": "ipython",
    "version": 3
   },
   "file_extension": ".py",
   "mimetype": "text/x-python",
   "name": "python",
   "nbconvert_exporter": "python",
   "pygments_lexer": "ipython3",
   "version": "3.11.11"
  }
 },
 "nbformat": 4,
 "nbformat_minor": 5
}
